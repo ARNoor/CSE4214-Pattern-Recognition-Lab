{
  "nbformat": 4,
  "nbformat_minor": 0,
  "metadata": {
    "colab": {
      "name": "Assignment_1_Pattern_Recognition_Implementing_Perceptron.ipynb",
      "provenance": [],
      "collapsed_sections": []
    },
    "kernelspec": {
      "name": "python3",
      "display_name": "Python 3"
    },
    "language_info": {
      "name": "python"
    }
  },
  "cells": [
    {
      "cell_type": "code",
      "execution_count": 3,
      "metadata": {
        "id": "n8D-ZlrGmhWh"
      },
      "outputs": [],
      "source": [
        "# importing necessary libraries\n",
        "import numpy as np\n",
        "import pandas as pd\n",
        "import matplotlib.pyplot as plt"
      ]
    },
    {
      "cell_type": "code",
      "source": [
        "# uploading file\n",
        "from google.colab import files\n",
        "uploaded = files.upload()"
      ],
      "metadata": {
        "colab": {
          "resources": {
            "http://localhost:8080/nbextensions/google.colab/files.js": {
              "data": "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",
              "ok": true,
              "headers": [
                [
                  "content-type",
                  "application/javascript"
                ]
              ],
              "status": 200,
              "status_text": ""
            }
          },
          "base_uri": "https://localhost:8080/",
          "height": 74
        },
        "id": "7Z0C-CZGnHOg",
        "outputId": "6d045334-ebef-4e46-9425-06086197dc16"
      },
      "execution_count": 4,
      "outputs": [
        {
          "output_type": "display_data",
          "data": {
            "text/html": [
              "\n",
              "     <input type=\"file\" id=\"files-317bf945-85ba-46d3-a4c2-769a1a42f4f0\" name=\"files[]\" multiple disabled\n",
              "        style=\"border:none\" />\n",
              "     <output id=\"result-317bf945-85ba-46d3-a4c2-769a1a42f4f0\">\n",
              "      Upload widget is only available when the cell has been executed in the\n",
              "      current browser session. Please rerun this cell to enable.\n",
              "      </output>\n",
              "      <script src=\"/nbextensions/google.colab/files.js\"></script> "
            ],
            "text/plain": [
              "<IPython.core.display.HTML object>"
            ]
          },
          "metadata": {}
        },
        {
          "output_type": "stream",
          "name": "stdout",
          "text": [
            "Saving train-perceptron.txt to train-perceptron.txt\n"
          ]
        }
      ]
    },
    {
      "cell_type": "code",
      "source": [
        "# getting the dataset into a dataframe\n",
        "import io\n",
        "import pandas as pd\n",
        "df = pd.read_csv(io.BytesIO(uploaded['train-perceptron.txt'] ), sep=\" \" ,  header = None, dtype = 'float64')\n",
        "print(df)"
      ],
      "metadata": {
        "colab": {
          "base_uri": "https://localhost:8080/"
        },
        "id": "5Rw-x6yInVrY",
        "outputId": "a071038d-ad63-4fe0-9f85-41bf16654dd0"
      },
      "execution_count": 5,
      "outputs": [
        {
          "output_type": "stream",
          "name": "stdout",
          "text": [
            "     0    1    2\n",
            "0  1.0  1.0  1.0\n",
            "1  1.0 -1.0  1.0\n",
            "2  2.0  2.5  2.0\n",
            "3  0.0  2.0  2.0\n",
            "4  2.0  3.0  2.0\n",
            "5  4.0  5.0  1.0\n"
          ]
        }
      ]
    },
    {
      "cell_type": "code",
      "source": [
        "# Separating the data according to their classes\n",
        "class_1 = df[df[2] == 1.0]\n",
        "print('Class - 1\\n', class_1)\n",
        "class_2 = df[df[2] == 2.0]\n",
        "print('\\nClass - 2\\n', class_2)"
      ],
      "metadata": {
        "colab": {
          "base_uri": "https://localhost:8080/"
        },
        "id": "s8nVQxaYzIgI",
        "outputId": "746dd965-241d-4448-d74b-4673d2471874"
      },
      "execution_count": 7,
      "outputs": [
        {
          "output_type": "stream",
          "name": "stdout",
          "text": [
            "Class - 1\n",
            "      0    1    2\n",
            "0  1.0  1.0  1.0\n",
            "1  1.0 -1.0  1.0\n",
            "5  4.0  5.0  1.0\n",
            "\n",
            "Class - 2\n",
            "      0    1    2\n",
            "2  2.0  2.5  2.0\n",
            "3  0.0  2.0  2.0\n",
            "4  2.0  3.0  2.0\n"
          ]
        }
      ]
    },
    {
      "cell_type": "code",
      "source": [
        "# Plotting Sample Points from both Classes\n",
        "plt.figure(figsize = (9, 7)) #width, height\n",
        "plt.title('Plotting Sample Points from both Classes')\n",
        "plt.xlabel('x1')\n",
        "plt.ylabel('x2')\n",
        "\n",
        "plt.scatter(class_1[0],class_1[1], s=200, color='crimson', marker = 'x', label='Class-1')\n",
        "plt.scatter(class_2[0],class_2[1], s=200, color='seagreen', marker = 'o', label='Class-2')\n",
        "plt.legend()"
      ],
      "metadata": {
        "colab": {
          "base_uri": "https://localhost:8080/",
          "height": 475
        },
        "id": "pXGcatenw1gR",
        "outputId": "84dad186-aee9-40bc-d0b0-121d389905cf"
      },
      "execution_count": 9,
      "outputs": [
        {
          "output_type": "execute_result",
          "data": {
            "text/plain": [
              "<matplotlib.legend.Legend at 0x7fd39b272e90>"
            ]
          },
          "metadata": {},
          "execution_count": 9
        },
        {
          "output_type": "display_data",
          "data": {
            "image/png": "[encoded data removed]",
            "text/plain": [
              "<Figure size 648x504 with 1 Axes>"
            ]
          },
          "metadata": {
            "needs_background": "light"
          }
        }
      ]
    },
    {
      "cell_type": "code",
      "source": [
        "# Calculating Phi Function\n",
        "def calculate_phi(x1, x2, normalization):\n",
        "  if normalization == True:\n",
        "    return (np.dot((x1**2, x2**2, x1*x2, x1, x2, 1.0), -1))\n",
        "  else:\n",
        "    return (x1**2, x2**2, x1*x2, x1, x2, 1.0)"
      ],
      "metadata": {
        "id": "GcwRyxu9UwAO"
      },
      "execution_count": 35,
      "outputs": []
    },
    {
      "cell_type": "code",
      "source": [
        "class_1_array = pd.DataFrame(class_1).to_numpy()\n",
        "class_2_array = pd.DataFrame(class_2).to_numpy()\n",
        "\n",
        "y = np.empty([df[0].size, df[1].size])\n",
        "\n",
        "for i in range(class_1[0].size):\n",
        "  y[i] = (calculate_phi(class_1_array[i][0], class_1_array[i][1], normalization = False))\n",
        "\n",
        "# Normalizing class-2 data points\n",
        "for i in range(class_2[0].size):\n",
        "  y[i+class_1[0].size] = (calculate_phi(class_2_array[i][0], class_2_array[i][1], normalization = True))\n",
        "\n",
        "for i in y:\n",
        "  print(i)"
      ],
      "metadata": {
        "colab": {
          "base_uri": "https://localhost:8080/"
        },
        "id": "zhOASC_OVGFd",
        "outputId": "66927806-d2fa-4762-dc62-0022931dca72"
      },
      "execution_count": 36,
      "outputs": [
        {
          "output_type": "stream",
          "name": "stdout",
          "text": [
            "[1. 1. 1. 1. 1. 1.]\n",
            "[ 1.  1. -1.  1. -1.  1.]\n",
            "[16. 25. 20.  4.  5.  1.]\n",
            "[-4.   -6.25 -5.   -2.   -2.5  -1.  ]\n",
            "[ 0. -4.  0.  0. -2. -1.]\n",
            "[-4. -9. -6. -2. -3. -1.]\n"
          ]
        }
      ]
    },
    {
      "cell_type": "code",
      "source": [
        "# One at a time or Single Update\n",
        "def one_at_a_time(weight, learning_rate):\n",
        "  lr = learning_rate\n",
        "  iter_count = 0\n",
        "  mc_count = -1\n",
        "\n",
        "  while(mc_count != 0):\n",
        "    mc_count = 0\n",
        "    for i in range(len(y)):\n",
        "      g_y = np.dot(y[i], weight)\n",
        "      if g_y <= 0.0:\n",
        "        mc_count += 1\n",
        "        weight = weight + lr*y[i]\n",
        "    iter_count += 1 \n",
        "  return iter_count"
      ],
      "metadata": {
        "id": "X0kPRw5rLgx9"
      },
      "execution_count": 40,
      "outputs": []
    },
    {
      "cell_type": "code",
      "source": [
        "# Many at a time or Batch Update\n",
        "def many_at_a_time(weight, learning_rate):\n",
        "  lr = learning_rate\n",
        "  iter_count = 0\n",
        "  mc_count = -1\n",
        "\n",
        "  while(mc_count != 0):\n",
        "    mc_count = 0\n",
        "    sum_mc = np.zeros_like(y[0])\n",
        "    for i in range(len(y)):\n",
        "      g_y = np.dot(y[i], weight)\n",
        "      if g_y <= 0.0:\n",
        "        mc_count += 1\n",
        "        sum_mc += y[i]\n",
        "    weight = weight + lr*sum_mc\n",
        "    iter_count += 1 \n",
        "  return iter_count"
      ],
      "metadata": {
        "id": "-L-jjU5z3PIU"
      },
      "execution_count": 41,
      "outputs": []
    },
    {
      "cell_type": "code",
      "source": [
        "weight = np.ones_like(y[0])\n",
        "print('Initial Weight Vector - All One', weight)\n",
        "print('-------------------------------')\n",
        "print('Alpha (learning rate)\\tOne at a Time\\tMany at a Time')\n",
        "print('------------------------------------------------------')\n",
        "one_at_a_time_one_list = []\n",
        "many_at_a_time_one_list = []\n",
        "for i in np.arange(0.1, 1.1, 0.1):\n",
        "  one_at_a_time_iter_one = one_at_a_time(weight, i)\n",
        "  one_at_a_time_one_list.append(one_at_a_time_iter_one)\n",
        "  many_at_a_time_iter_one = many_at_a_time(weight, i)\n",
        "  many_at_a_time_one_list.append(many_at_a_time_iter_one)\n",
        "  print('{:.1f}'.format(i),'\\t\\t\\t',one_at_a_time_iter_one,'\\t\\t',many_at_a_time_iter_one)"
      ],
      "metadata": {
        "colab": {
          "base_uri": "https://localhost:8080/"
        },
        "id": "ODiDx5W9Iuon",
        "outputId": "f94e6359-1d21-4938-c117-a0bf5f61d8a7"
      },
      "execution_count": 42,
      "outputs": [
        {
          "output_type": "stream",
          "name": "stdout",
          "text": [
            "Initial Weight Vector - All One [1. 1. 1. 1. 1. 1.]\n",
            "-------------------------------\n",
            "Alpha (learning rate)\tOne at a Time\tMany at a Time\n",
            "------------------------------------------------------\n",
            "0.1 \t\t\t 6 \t\t 102\n",
            "0.2 \t\t\t 92 \t\t 104\n",
            "0.3 \t\t\t 104 \t\t 91\n",
            "0.4 \t\t\t 106 \t\t 116\n",
            "0.5 \t\t\t 93 \t\t 105\n",
            "0.6 \t\t\t 93 \t\t 114\n",
            "0.7 \t\t\t 108 \t\t 91\n",
            "0.8 \t\t\t 115 \t\t 91\n",
            "0.9 \t\t\t 94 \t\t 105\n",
            "1.0 \t\t\t 94 \t\t 93\n"
          ]
        }
      ]
    },
    {
      "cell_type": "code",
      "source": [
        "weight = np.zeros_like(y[0])\n",
        "print('Initial Weight Vector - All Zero', weight)\n",
        "print('--------------------------------')\n",
        "print('Alpha (learning rate)\\tOne at a Time\\tMany at a Time')\n",
        "print('------------------------------------------------------')\n",
        "one_at_a_time_zero_list = []\n",
        "many_at_a_time_zero_list = []\n",
        "for i in np.arange(0.1, 1.1, 0.1):\n",
        "  one_at_a_time_iter_zero = one_at_a_time(weight, i)\n",
        "  one_at_a_time_zero_list.append(one_at_a_time_iter_zero)\n",
        "  many_at_a_time_iter_zero = many_at_a_time(weight, i)\n",
        "  many_at_a_time_zero_list.append(many_at_a_time_iter_zero)\n",
        "  print('{:.1f}'.format(i),'\\t\\t\\t', one_at_a_time_iter_zero,'\\t\\t', many_at_a_time_iter_zero)"
      ],
      "metadata": {
        "colab": {
          "base_uri": "https://localhost:8080/"
        },
        "id": "5dKyR5mENzy1",
        "outputId": "6156a882-54c0-4f39-9717-b35e567c45ab"
      },
      "execution_count": 44,
      "outputs": [
        {
          "output_type": "stream",
          "name": "stdout",
          "text": [
            "Initial Weight Vector - All Zero [0. 0. 0. 0. 0. 0.]\n",
            "--------------------------------\n",
            "Alpha (learning rate)\tOne at a Time\tMany at a Time\n",
            "------------------------------------------------------\n",
            "0.1 \t\t\t 94 \t\t 105\n",
            "0.2 \t\t\t 94 \t\t 105\n",
            "0.3 \t\t\t 94 \t\t 92\n",
            "0.4 \t\t\t 94 \t\t 105\n",
            "0.5 \t\t\t 94 \t\t 92\n",
            "0.6 \t\t\t 94 \t\t 105\n",
            "0.7 \t\t\t 94 \t\t 105\n",
            "0.8 \t\t\t 94 \t\t 105\n",
            "0.9 \t\t\t 94 \t\t 105\n",
            "1.0 \t\t\t 94 \t\t 92\n"
          ]
        }
      ]
    },
    {
      "cell_type": "code",
      "source": [
        "np.random.seed(170204059)\n",
        "weight = np.random.random(len(y[0]))\n",
        "print('Initial Weight Vector - Randomly Initialized', weight)\n",
        "print('--------------------------------------------')\n",
        "\n",
        "print('Alpha (learning rate)\\tOne at a Time\\tMany at a Time')\n",
        "print('------------------------------------------------------')\n",
        "one_at_a_time_random_list = []\n",
        "many_at_a_time_random_list = []\n",
        "for i in np.arange(0.1, 1.1, 0.1):\n",
        "  one_at_a_time_iter_random = one_at_a_time(weight, i)\n",
        "  one_at_a_time_random_list.append(one_at_a_time_iter_random)\n",
        "  many_at_a_time_iter_random = many_at_a_time(weight, i)\n",
        "  many_at_a_time_random_list.append(many_at_a_time_iter_random)\n",
        "  print('{:.1f}'.format(i),'\\t\\t\\t',one_at_a_time_iter_random,'\\t\\t',many_at_a_time_iter_random)"
      ],
      "metadata": {
        "colab": {
          "base_uri": "https://localhost:8080/"
        },
        "id": "koaHztVNN6O2",
        "outputId": "6c0ce60a-6854-469b-9613-53967e5dfec1"
      },
      "execution_count": 45,
      "outputs": [
        {
          "output_type": "stream",
          "name": "stdout",
          "text": [
            "Initial Weight Vector - Randomly Initialized [0.74478765 0.36476433 0.87151425 0.28655727 0.07513938 0.40204927]\n",
            "--------------------------------------------\n",
            "Alpha (learning rate)\tOne at a Time\tMany at a Time\n",
            "------------------------------------------------------\n",
            "0.1 \t\t\t 91 \t\t 106\n",
            "0.2 \t\t\t 94 \t\t 95\n",
            "0.3 \t\t\t 106 \t\t 98\n",
            "0.4 \t\t\t 101 \t\t 106\n",
            "0.5 \t\t\t 101 \t\t 106\n",
            "0.6 \t\t\t 100 \t\t 106\n",
            "0.7 \t\t\t 113 \t\t 121\n",
            "0.8 \t\t\t 106 \t\t 88\n",
            "0.9 \t\t\t 112 \t\t 88\n",
            "1.0 \t\t\t 110 \t\t 101\n"
          ]
        }
      ]
    },
    {
      "cell_type": "code",
      "source": [
        "x_label = [\"{:.1f}\".format(i) for i in np.arange(0.1, 1.1, 0.1)]\n",
        "width = 0.35\n",
        "index = np.arange(10)"
      ],
      "metadata": {
        "id": "0CsWr8lhAmTw"
      },
      "execution_count": 46,
      "outputs": []
    },
    {
      "cell_type": "code",
      "source": [
        "plt.figure(figsize = (10, 6))\n",
        "plt.title('Perceptron Comparison - Initial Weight Vector All One')\n",
        "plt.bar(index, one_at_a_time_one_list, width, color='indianred', label='One at a time', alpha=0.75)\n",
        "plt.bar(index + width, many_at_a_time_one_list, width, color='maroon', label='Many at a time', alpha=0.75)\n",
        "plt.xlabel('Learning rate')\n",
        "plt.ylabel('No of iterations')\n",
        "plt.xticks(index+width/2, x_label)\n",
        "plt.legend()\n",
        "plt.show()"
      ],
      "metadata": {
        "colab": {
          "base_uri": "https://localhost:8080/",
          "height": 404
        },
        "id": "gbReYgHw6X6g",
        "outputId": "f9e36e9c-fdf4-46bd-bd10-706ac5488af2"
      },
      "execution_count": 47,
      "outputs": [
        {
          "output_type": "display_data",
          "data": {
            "image/png": "[encoded data removed]",
            "text/plain": [
              "<Figure size 720x432 with 1 Axes>"
            ]
          },
          "metadata": {
            "needs_background": "light"
          }
        }
      ]
    },
    {
      "cell_type": "code",
      "source": [
        "plt.figure(figsize = (10, 6))\n",
        "plt.title('Perceptron Comparison - Initial Weight Vector All Zero')\n",
        "plt.bar(index, one_at_a_time_zero_list, width, color='yellowgreen', label='One at a time', alpha=0.75)\n",
        "plt.bar(index + width, many_at_a_time_zero_list, width, color='olivedrab', label='Many at a time', alpha=0.75)\n",
        "plt.xlabel('Learning rate')\n",
        "plt.ylabel('No of iterations')\n",
        "plt.xticks(index+width/2, x_label)\n",
        "plt.legend()\n",
        "plt.show()"
      ],
      "metadata": {
        "colab": {
          "base_uri": "https://localhost:8080/",
          "height": 404
        },
        "id": "s7iPWHJV9TM7",
        "outputId": "7b993299-e530-4b4c-9500-8973f3998d74"
      },
      "execution_count": 53,
      "outputs": [
        {
          "output_type": "display_data",
          "data": {
            "image/png": "[encoded data removed]",
            "text/plain": [
              "<Figure size 720x432 with 1 Axes>"
            ]
          },
          "metadata": {
            "needs_background": "light"
          }
        }
      ]
    },
    {
      "cell_type": "code",
      "source": [
        "plt.figure(figsize = (10, 6))\n",
        "plt.title('Perceptron Comparison - Initial Weight Vector Randomly Initialized')\n",
        "plt.bar(index, one_at_a_time_random_list, width, color='mediumpurple', label='One at a time', alpha=0.75)\n",
        "plt.bar(index + width, many_at_a_time_random_list, width, color='indigo', label='Many at a time', alpha=0.75)\n",
        "plt.xlabel('Learning rate')\n",
        "plt.ylabel('No of iterations')\n",
        "plt.xticks(index+width/2, x_label)\n",
        "plt.legend()\n",
        "plt.show()"
      ],
      "metadata": {
        "colab": {
          "base_uri": "https://localhost:8080/",
          "height": 404
        },
        "id": "tLDftkXJA_Kw",
        "outputId": "a20872fe-859b-4ea8-bc81-bb3dffe415e2"
      },
      "execution_count": 55,
      "outputs": [
        {
          "output_type": "display_data",
          "data": {
            "image/png": "[encoded data removed]",
            "text/plain": [
              "<Figure size 720x432 with 1 Axes>"
            ]
          },
          "metadata": {
            "needs_background": "light"
          }
        }
      ]
    }
  ]
}